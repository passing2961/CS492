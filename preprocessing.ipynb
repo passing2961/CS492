{
 "cells": [
  {
   "cell_type": "code",
   "execution_count": 1,
   "metadata": {},
   "outputs": [],
   "source": [
    "import numpy as np\n",
    "from utils import *\n",
    "import matplotlib as mpl\n",
    "import matplotlib.pylab as plt\n",
    "%matplotlib inline"
   ]
  },
  {
   "cell_type": "code",
   "execution_count": 2,
   "metadata": {},
   "outputs": [],
   "source": [
    "LBNL_DATA_DIR = 'data/LBNL Building 74/lbnlb74electricity.xlsx'"
   ]
  },
  {
   "cell_type": "code",
   "execution_count": 3,
   "metadata": {},
   "outputs": [
    {
     "name": "stderr",
     "output_type": "stream",
     "text": [
      "/usr/local/lib/python3.6/dist-packages/openpyxl/worksheet/_reader.py:292: UserWarning: Unknown extension is not supported and will be removed\n",
      "  warn(msg)\n"
     ]
    },
    {
     "name": "stdout",
     "output_type": "stream",
     "text": [
      "Size of time, elec: 46111\t46111\n"
     ]
    }
   ],
   "source": [
    "time, elec = load_data(LBNL_DATA_DIR)"
   ]
  },
  {
   "cell_type": "code",
   "execution_count": 4,
   "metadata": {},
   "outputs": [
    {
     "data": {
      "text/plain": [
       "224287.38808"
      ]
     },
     "execution_count": 4,
     "metadata": {},
     "output_type": "execute_result"
    }
   ],
   "source": [
    "elec[40226]"
   ]
  },
  {
   "cell_type": "code",
   "execution_count": 7,
   "metadata": {},
   "outputs": [],
   "source": [
    "def missing_value(data):\n",
    "    \n",
    "    for i in range(len(data)):\n",
    "        if data[i] > 100:\n",
    "            data[i] = None\n",
    "    \n",
    "    for i in range(len(data)):\n",
    "        if data[i] == None:\n",
    "            if data[i-1] == None:\n",
    "                prev = data[i-2]\n",
    "                data[i] = (data[i-2] + data[i+1])/2\n",
    "            elif data[i+1] == None:\n",
    "                nxt = data[i+2]\n",
    "                data[i] = (data[i-1] + data[i+2])/2\n",
    "            else:\n",
    "                data[i] = (data[i-1] + data[i+1])/2\n",
    "                \n",
    "    return data"
   ]
  },
  {
   "cell_type": "code",
   "execution_count": 8,
   "metadata": {},
   "outputs": [],
   "source": [
    "elec = missing_value(elec)"
   ]
  },
  {
   "cell_type": "code",
   "execution_count": 9,
   "metadata": {},
   "outputs": [],
   "source": [
    "for i in range(len(elec)):\n",
    "    if elec[i] > 100:\n",
    "        print(i)\n",
    "        print(time[i], elec[i], elec[i-1], elec[i+1], (elec[i-1] + elec[i+1])/2) # 40228 / 11472"
   ]
  },
  {
   "cell_type": "code",
   "execution_count": 10,
   "metadata": {},
   "outputs": [
    {
     "name": "stderr",
     "output_type": "stream",
     "text": [
      "/usr/local/lib/python3.6/dist-packages/pandas/plotting/_matplotlib/converter.py:103: FutureWarning: Using an implicitly registered datetime converter for a matplotlib plotting method. The converter was registered by pandas on import. Future versions of pandas will require you to explicitly register matplotlib converters.\n",
      "\n",
      "To register the converters:\n",
      "\t>>> from pandas.plotting import register_matplotlib_converters\n",
      "\t>>> register_matplotlib_converters()\n",
      "  warnings.warn(msg, FutureWarning)\n"
     ]
    },
    {
     "data": {
      "image/png": "[encoded data removed]",
      "text/plain": [
       "<Figure size 432x288 with 1 Axes>"
      ]
     },
     "metadata": {
      "needs_background": "light"
     },
     "output_type": "display_data"
    }
   ],
   "source": [
    "plt.plot(time, elec)\n",
    "plt.show()"
   ]
  },
  {
   "cell_type": "code",
   "execution_count": 14,
   "metadata": {},
   "outputs": [],
   "source": [
    "elec = np.array(elec)"
   ]
  },
  {
   "cell_type": "code",
   "execution_count": 15,
   "metadata": {},
   "outputs": [],
   "source": [
    "elec_mean = elec.mean()\n",
    "elec_std = elec.std()"
   ]
  },
  {
   "cell_type": "code",
   "execution_count": 17,
   "metadata": {},
   "outputs": [
    {
     "name": "stdout",
     "output_type": "stream",
     "text": [
      "36.74150820910412 1044.4175189073667\n"
     ]
    }
   ],
   "source": [
    "print(elec_mean, elec_std)"
   ]
  },
  {
   "cell_type": "code",
   "execution_count": 18,
   "metadata": {},
   "outputs": [],
   "source": [
    "norm_elec = (elec - elec_mean)/elec_std"
   ]
  },
  {
   "cell_type": "code",
   "execution_count": 19,
   "metadata": {},
   "outputs": [
    {
     "name": "stdout",
     "output_type": "stream",
     "text": [
      "[-0.01333663 -0.01156291 -0.01203447]\n"
     ]
    }
   ],
   "source": [
    "print(norm_elec[:3])"
   ]
  },
  {
   "cell_type": "code",
   "execution_count": 27,
   "metadata": {},
   "outputs": [],
   "source": [
    "elec_min = elec.min()\n",
    "elec_max = elec.max()"
   ]
  },
  {
   "cell_type": "code",
   "execution_count": 28,
   "metadata": {},
   "outputs": [
    {
     "name": "stdout",
     "output_type": "stream",
     "text": [
      "11.5 224287.38808\n"
     ]
    }
   ],
   "source": [
    "print(elec_min, elec_max)"
   ]
  },
  {
   "cell_type": "code",
   "execution_count": 29,
   "metadata": {},
   "outputs": [],
   "source": [
    "norm_elec = (elec - elec_min)/(elec_max - elec_min)"
   ]
  },
  {
   "cell_type": "code",
   "execution_count": 31,
   "metadata": {},
   "outputs": [
    {
     "name": "stdout",
     "output_type": "stream",
     "text": [
      "[5.04401079e-05 5.87000239e-05 5.65040679e-05]\n"
     ]
    }
   ],
   "source": [
    "print(norm_elec[:3])"
   ]
  },
  {
   "cell_type": "code",
   "execution_count": 4,
   "metadata": {},
   "outputs": [
    {
     "name": "stdout",
     "output_type": "stream",
     "text": [
      "Size of time, gas, therms: 156628\t156628\t156628\n"
     ]
    }
   ],
   "source": [
    "time, gas, therms = load_gas_data('data/LBNL Building 74/lbnlbuilding74gasdata.xlsx')"
   ]
  },
  {
   "cell_type": "code",
   "execution_count": 5,
   "metadata": {},
   "outputs": [
    {
     "name": "stdout",
     "output_type": "stream",
     "text": [
      "0.77575177\n"
     ]
    }
   ],
   "source": [
    "print(gas[-1])"
   ]
  },
  {
   "cell_type": "code",
   "execution_count": 6,
   "metadata": {},
   "outputs": [],
   "source": [
    "gas = np.array(gas)"
   ]
  },
  {
   "cell_type": "code",
   "execution_count": 10,
   "metadata": {},
   "outputs": [
    {
     "name": "stdout",
     "output_type": "stream",
     "text": [
      "1/7/2014 04:00:01 PST None\n",
      "1/16/2014 04:00:01 PST None\n",
      "1/19/2014 04:00:01 PST None\n",
      "1/25/2014 04:00:01 PST None\n",
      "2/1/2014 04:00:01 PST None\n",
      "3/1/2014 04:00:00 PST None\n",
      "3/9/2014 03:00:00 PDT None\n",
      "3/14/2014 20:05:02 PDT None\n",
      "4/19/2014 04:00:00 PDT None\n",
      "5/10/2014 04:00:01 PDT None\n",
      "5/17/2014 01:04:26 PDT None\n",
      "6/7/2014 04:00:01 PDT None\n",
      "6/16/2014 04:00:01 PDT None\n",
      "8/20/2014 10:20:49 PDT None\n",
      "9/1/2014 04:00:01 PDT None\n",
      "9/24/2014 04:00:01 PDT None\n",
      "9/29/2014 04:00:01 PDT None\n",
      "10/11/2014 04:00:01 PDT None\n",
      "10/14/2014 04:00:01 PDT None\n",
      "10/22/2014 04:00:01 PDT None\n",
      "10/25/2014 04:00:01 PDT None\n",
      "11/2/2014 04:00:01 PST None\n",
      "11/5/2014 04:00:00 PST None\n",
      "11/24/2014 04:00:01 PST None\n",
      "12/2/2014 04:00:01 PST None\n",
      "12/10/2014 04:00:01 PST None\n",
      "1/14/2015 08:06:34 PST None\n",
      "1/14/2015 08:06:34 PST None\n",
      "1/18/2015 04:00:01 PST None\n",
      "2/3/2015 04:00:03 PST None\n",
      "2/27/2015 04:00:02 PST None\n",
      "3/8/2015 03:00:00 PDT None\n",
      "5/25/2015 04:00:01 PDT None\n",
      "6/6/2015 04:00:02 PDT None\n",
      "6/13/2015 04:00:01 PDT None\n",
      "6/20/2015 04:00:00 PDT None\n",
      "6/26/2015 04:00:02 PDT None\n"
     ]
    }
   ],
   "source": [
    "for i in range(len(gas)):\n",
    "    if gas[i] == None:\n",
    "        print(time[i], gas[i])"
   ]
  },
  {
   "cell_type": "code",
   "execution_count": 7,
   "metadata": {},
   "outputs": [
    {
     "ename": "TypeError",
     "evalue": "unsupported operand type(s) for +: 'float' and 'NoneType'",
     "output_type": "error",
     "traceback": [
      "\u001b[0;31m---------------------------------------------------------------------------\u001b[0m",
      "\u001b[0;31mTypeError\u001b[0m                                 Traceback (most recent call last)",
      "\u001b[0;32m<ipython-input-7-a11589550b4a>\u001b[0m in \u001b[0;36m<module>\u001b[0;34m\u001b[0m\n\u001b[0;32m----> 1\u001b[0;31m \u001b[0mgas_mean\u001b[0m \u001b[0;34m=\u001b[0m \u001b[0mgas\u001b[0m\u001b[0;34m.\u001b[0m\u001b[0mmean\u001b[0m\u001b[0;34m(\u001b[0m\u001b[0;34m)\u001b[0m\u001b[0;34m\u001b[0m\u001b[0;34m\u001b[0m\u001b[0m\n\u001b[0m\u001b[1;32m      2\u001b[0m \u001b[0mgas_std\u001b[0m \u001b[0;34m=\u001b[0m \u001b[0mgas\u001b[0m\u001b[0;34m.\u001b[0m\u001b[0mstd\u001b[0m\u001b[0;34m(\u001b[0m\u001b[0;34m)\u001b[0m\u001b[0;34m\u001b[0m\u001b[0;34m\u001b[0m\u001b[0m\n",
      "\u001b[0;32m/usr/local/lib/python3.6/dist-packages/numpy/core/_methods.py\u001b[0m in \u001b[0;36m_mean\u001b[0;34m(a, axis, dtype, out, keepdims)\u001b[0m\n\u001b[1;32m    149\u001b[0m             \u001b[0mis_float16_result\u001b[0m \u001b[0;34m=\u001b[0m \u001b[0;32mTrue\u001b[0m\u001b[0;34m\u001b[0m\u001b[0;34m\u001b[0m\u001b[0m\n\u001b[1;32m    150\u001b[0m \u001b[0;34m\u001b[0m\u001b[0m\n\u001b[0;32m--> 151\u001b[0;31m     \u001b[0mret\u001b[0m \u001b[0;34m=\u001b[0m \u001b[0mumr_sum\u001b[0m\u001b[0;34m(\u001b[0m\u001b[0marr\u001b[0m\u001b[0;34m,\u001b[0m \u001b[0maxis\u001b[0m\u001b[0;34m,\u001b[0m \u001b[0mdtype\u001b[0m\u001b[0;34m,\u001b[0m \u001b[0mout\u001b[0m\u001b[0;34m,\u001b[0m \u001b[0mkeepdims\u001b[0m\u001b[0;34m)\u001b[0m\u001b[0;34m\u001b[0m\u001b[0;34m\u001b[0m\u001b[0m\n\u001b[0m\u001b[1;32m    152\u001b[0m     \u001b[0;32mif\u001b[0m \u001b[0misinstance\u001b[0m\u001b[0;34m(\u001b[0m\u001b[0mret\u001b[0m\u001b[0;34m,\u001b[0m \u001b[0mmu\u001b[0m\u001b[0;34m.\u001b[0m\u001b[0mndarray\u001b[0m\u001b[0;34m)\u001b[0m\u001b[0;34m:\u001b[0m\u001b[0;34m\u001b[0m\u001b[0;34m\u001b[0m\u001b[0m\n\u001b[1;32m    153\u001b[0m         ret = um.true_divide(\n",
      "\u001b[0;31mTypeError\u001b[0m: unsupported operand type(s) for +: 'float' and 'NoneType'"
     ]
    }
   ],
   "source": [
    "gas_mean = gas.mean()\n",
    "gas_std = gas.std()"
   ]
  },
  {
   "cell_type": "code",
   "execution_count": null,
   "metadata": {},
   "outputs": [],
   "source": [
    "p"
   ]
  }
 ],
 "metadata": {
  "kernelspec": {
   "display_name": "Python 3",
   "language": "python",
   "name": "python3"
  },
  "language_info": {
   "codemirror_mode": {
    "name": "ipython",
    "version": 3
   },
   "file_extension": ".py",
   "mimetype": "text/x-python",
   "name": "python",
   "nbconvert_exporter": "python",
   "pygments_lexer": "ipython3",
   "version": "3.6.8"
  }
 },
 "nbformat": 4,
 "nbformat_minor": 4
}
